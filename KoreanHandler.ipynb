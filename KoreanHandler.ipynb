{
 "cells": [
  {
   "cell_type": "code",
   "execution_count": 3,
   "metadata": {
    "metadata": {}
   },
   "outputs": [
    {
     "name": "stdout",
     "output_type": "stream",
     "text": [
      "가\n"
     ]
    }
   ],
   "source": [
    "S=\"가\"\n",
    "print(S)"
   ]
  },
  {
   "cell_type": "code",
   "execution_count": 4,
   "metadata": {
    "metadata": {}
   },
   "outputs": [
    {
     "name": "stdout",
     "output_type": "stream",
     "text": [
      "b'\\xea\\xb0\\x80'\n",
      "<class 'bytes'>\n",
      "44032\n",
      "가\n"
     ]
    }
   ],
   "source": [
    "num=S.encode()\n",
    "print(num)\n",
    "print(type(num))\n",
    "print(ord(S))\n",
    "print(chr(ord(S)))"
   ]
  },
  {
   "cell_type": "code",
   "execution_count": 25,
   "metadata": {
    "metadata": {}
   },
   "outputs": [
    {
     "name": "stdout",
     "output_type": "stream",
     "text": [
      "ㅇ\n",
      "ㅙ\n",
      "ㅀ\n"
     ]
    }
   ],
   "source": [
    "KOREAN_START=ord(\"가\")\n",
    "KOREAN_END=ord(\"힣\")\n",
    "koreanHeads=['ㄱ','ㄲ','ㄴ','ㄷ','ㄸ','ㄹ','ㅁ','ㅂ','ㅃ','ㅅ','ㅆ','ㅇ','ㅈ','ㅉ','ㅊ','ㅋ','ㅌ','ㅍ','ㅎ']\n",
    "koreanBodies=['ㅏ','ㅐ','ㅑ','ㅒ','ㅓ','ㅔ','ㅕ','ㅖ','ㅗ','ㅘ','ㅙ','ㅚ','ㅛ','ㅜ','ㅝ','ㅞ','ㅟ','ㅠ','ㅡ','ㅢ','ㅣ']\n",
    "koreanTails=[' ','ㄱ','ㄲ','ㄳ','ㄴ','ㄵ','ㄶ','ㄷ','ㄹ','ㄺ','ㄻ','ㄼ','ㄽ','ㄾ','ㄿ','ㅀ','ㅁ','ㅂ','ㅄ','ㅅ','ㅆ','ㅇ','ㅈ','ㅊ','ㅋ','ㅌ','ㅍ','ㅎ',]\n",
    "'''\n",
    "한글은\n",
    "초성 19개(ㄱㄲㄴㄷㄸㄹㅁㅂㅃㅅㅆㅇㅈㅉㅊㅋㅌㅍㅎ)\n",
    "중성 21개(ㅏㅐㅑㅒㅓㅔㅕㅖㅗㅘㅙㅚㅛㅜㅝㅞㅟㅠㅡㅢㅣ)\n",
    "종성 28개(ㄱㄲㄳㄴㄵㄶㄷㄹㄺㄻㄼㄽㄾㄿㅀㅁㅂㅄㅅㅆㅇㅈㅊㅋㅌㅍㅎ) + 공백\n",
    "초성의 인덱스 값을 구하기 위해선 21*28로 나눈 몫을 취한다. (21*28이 한 덩어리)\n",
    "중성의 인덱스 값을 구하기 위해선 28로 나누고 21로 나눈 나머지를 취한다. (28이 한 덩어리)\n",
    "종성의 인덱스 값을 구하기 위해선 28로 나눈 나머지를 취한다\n",
    "'''\n",
    "def isKorean(S):\n",
    "    x=ord(S)\n",
    "    return x>=KOREAN_START and x<=KOREAN_END\n",
    "\n",
    "def get_korean_head(S):\n",
    "    if not isKorean(S[-1]) :\n",
    "        raise Exception(\"parameter is not complete korean\")\n",
    "    \n",
    "    korean=ord(S[-1])\n",
    "    index=korean-KOREAN_START\n",
    "    return koreanHeads[index//(28*21)]\n",
    "\n",
    "def get_korean_body(S):\n",
    "    if not isKorean(S[-1]) :\n",
    "        raise Exception(\"parameter is not complete korean\")\n",
    "    \n",
    "    korean=ord(S[-1])\n",
    "    index=korean-KOREAN_START\n",
    "    return koreanBodies[(index//28)%21]\n",
    "\n",
    "def get_korean_tail(S):\n",
    "    if not isKorean(S[-1]) :\n",
    "        raise Exception(\"parameter is not complete korean\")\n",
    "    \n",
    "    korean=ord(S[-1])\n",
    "    index=korean-KOREAN_START\n",
    "    return koreanTails[index%28]\n",
    "\n",
    "try:\n",
    "    print(get_korean_head(\"왫\"))\n",
    "    print(get_korean_body(\"왫\"))\n",
    "    print(get_korean_tail(\"왫\"))\n",
    "except Exception as e:\n",
    "    print(e)"
   ]
  },
  {
   "cell_type": "code",
   "execution_count": 13,
   "metadata": {
    "metadata": {}
   },
   "outputs": [
    {
     "name": "stdout",
     "output_type": "stream",
     "text": [
      "['ㅎ', 'ㅘ', ' ', '/', 'ㅇ', 'ㅕ', 'ㅁ', '/', 'ㄱ', 'ㅜ', ' ', '/']\n"
     ]
    }
   ],
   "source": [
    "def split_korean(S,seperator='/'):\n",
    "    result=[]\n",
    "    for korean in S:\n",
    "        if not isKorean(korean):\n",
    "            raise Exception(\"parameter is not complete korean\")\n",
    "        \n",
    "        result.append(get_korean_head(korean))\n",
    "        result.append(get_korean_body(korean))\n",
    "        result.append(get_korean_tail(korean))\n",
    "        \n",
    "        result.append(seperator)\n",
    "    \n",
    "    return result\n",
    "\n",
    "try:\n",
    "    print(split_korean(\"화염구\"))\n",
    "except Exception as e:\n",
    "    print(e)"
   ]
  },
  {
   "cell_type": "code",
   "execution_count": 29,
   "metadata": {},
   "outputs": [],
   "source": [
    "def join_korean(S,seperator='/'):\n",
    "    result=''\n",
    "    i=0\n",
    "    while i<len(S):\n",
    "        korean=0\n",
    "        Head=S[i]\n",
    "        if Head not in koreanHeads:\n",
    "            raise Exception(\"wrong sequence of korean\")\n",
    "        Body=S[i+1]\n",
    "        if Body not in koreanBodies:\n",
    "            raise Exception(\"wrong sequence of korean\")\n",
    "        korean+=koreanHeads.index(Head)*28*21\n",
    "        korean+=koreanBodies.index(Body)*28\n",
    "        #일단 초성과 중성은 있는게 확실하므로 조합해놓는다.\n",
    "        \n",
    "        #그러나 종성은 없을 수도 있고, 입력시 공백/빈 문자열로 들어오거나 아예 생략되어 들어오는 경우가 있으므로 처리해준다.\n",
    "        Tail=S[i+2]\n",
    "        if Tail == seperator or Tail == '' :\n",
    "            result += chr(korean+KOREAN_START)\n",
    "            if Tail == seperator: i+=3\n",
    "            else: i+=4\n",
    "            continue\n",
    "        elif Tail not in koreanTails:\n",
    "            raise Exception(\"wrong sequence of korean\")\n",
    "        \n",
    "        korean+=koreanTails.index(Tail)\n",
    "        \n",
    "        result += chr(korean+KOREAN_START)\n",
    "        i+=4\n",
    "    return result"
   ]
  },
  {
   "cell_type": "code",
   "execution_count": 30,
   "metadata": {},
   "outputs": [
    {
     "name": "stdout",
     "output_type": "stream",
     "text": [
      "화염구\n",
      "화염구\n"
     ]
    }
   ],
   "source": [
    "print(join_korean(split_korean(\"화염구\")))\n",
    "print(join_korean(['ㅎ', 'ㅘ', '', '/', 'ㅇ', 'ㅕ', 'ㅁ', '/', 'ㄱ', 'ㅜ', '/']))"
   ]
  },
  {
   "cell_type": "markdown",
   "metadata": {},
   "source": [
    "그럼 이제 위의 코드를 바탕으로 한 클래스 koreanhandler를 import해 사용해보겠다."
   ]
  },
  {
   "cell_type": "code",
   "execution_count": 1,
   "metadata": {},
   "outputs": [
    {
     "data": {
      "text/plain": [
       "'ㅣ'"
      ]
     },
     "execution_count": 1,
     "metadata": {},
     "output_type": "execute_result"
    }
   ],
   "source": [
    "from koreanhandler import KoreanHandler\n",
    "\n",
    "KH=KoreanHandler()\n",
    "\n",
    "KH.get_korean_body('킹')"
   ]
  },
  {
   "cell_type": "code",
   "execution_count": 2,
   "metadata": {},
   "outputs": [
    {
     "data": {
      "text/plain": [
       "['ㅅ',\n",
       " 'ㅣ',\n",
       " ' ',\n",
       " '/',\n",
       " 'ㅋ',\n",
       " 'ㅏ',\n",
       " ' ',\n",
       " '/',\n",
       " 'ㄴ',\n",
       " 'ㅗ',\n",
       " ' ',\n",
       " '/',\n",
       " 'ㅋ',\n",
       " 'ㅗ',\n",
       " ' ',\n",
       " '/']"
      ]
     },
     "execution_count": 2,
     "metadata": {},
     "output_type": "execute_result"
    }
   ],
   "source": [
    "KH.split_korean('시카노코')"
   ]
  },
  {
   "cell_type": "code",
   "execution_count": 8,
   "metadata": {},
   "outputs": [
    {
     "name": "stdout",
     "output_type": "stream",
     "text": [
      "호시탄탄\n",
      "호시탄탄\n"
     ]
    }
   ],
   "source": [
    "print(KH.join_korean(KH.split_korean('호시탄탄')))\n",
    "print(KH.join_korean(['ㅎ', 'ㅗ','/', 'ㅅ', 'ㅣ', '/', 'ㅌ', 'ㅏ', 'ㄴ', '/', 'ㅌ', 'ㅏ', 'ㄴ', '/']))"
   ]
  }
 ],
 "metadata": {
  "kernelspec": {
   "display_name": "Python 3",
   "language": "python",
   "name": "python3"
  },
  "language_info": {
   "codemirror_mode": {
    "name": "ipython",
    "version": 3
   },
   "file_extension": ".py",
   "mimetype": "text/x-python",
   "name": "python",
   "nbconvert_exporter": "python",
   "pygments_lexer": "ipython3",
   "version": "3.10.11"
  }
 },
 "nbformat": 4,
 "nbformat_minor": 2
}
